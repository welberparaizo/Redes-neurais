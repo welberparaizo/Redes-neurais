{
  "nbformat": 4,
  "nbformat_minor": 0,
  "metadata": {
    "colab": {
      "provenance": [],
      "authorship_tag": "ABX9TyOCEARs23TbJwgmzyjGXvwI",
      "include_colab_link": true
    },
    "kernelspec": {
      "name": "python3",
      "display_name": "Python 3"
    },
    "language_info": {
      "name": "python"
    }
  },
  "cells": [
    {
      "cell_type": "markdown",
      "metadata": {
        "id": "view-in-github",
        "colab_type": "text"
      },
      "source": [
        "<a href=\"https://colab.research.google.com/github/welberparaizo/Redes-neurais/blob/main/Lista_adjacencia.ipynb\" target=\"_parent\"><img src=\"https://colab.research.google.com/assets/colab-badge.svg\" alt=\"Open In Colab\"/></a>"
      ]
    },
    {
      "cell_type": "markdown",
      "source": [
        "Grafo sem peso nas arestas"
      ],
      "metadata": {
        "id": "53nIA4EDjVyh"
      }
    },
    {
      "cell_type": "code",
      "execution_count": 29,
      "metadata": {
        "id": "mQbcGZuBTZA5"
      },
      "outputs": [],
      "source": [
        "class Grafo:\n",
        "\n",
        "  def __init__(self, vertice):\n",
        "    self.vertice = vertice\n",
        "    self.grafo = [[] for i in range(self.vertice)]\n",
        "\n",
        "  def adicionar_aresta(self, u, v):\n",
        "    #Para grafo direcionado\n",
        "    self.grafo[u-1].append(v)\n",
        "\n",
        "    #Para grafo não direcionado\n",
        "    self.grafo[v-1].append(u)\n",
        "\n",
        "  def mostra_lista(self):\n",
        "    for i in range(self.vertice):\n",
        "      print(f'{i+1}:', end =' ')\n",
        "      for j in self.grafo[i]:\n",
        "        print(f'{j} ->', end =' ')\n",
        "        print('')"
      ]
    },
    {
      "cell_type": "code",
      "source": [
        "g = Grafo(4)\n",
        "g.adicionar_aresta(1,2)\n",
        "g.adicionar_aresta(1,3)\n",
        "g.adicionar_aresta(1,4)\n",
        "g.adicionar_aresta(2,3)\n",
        "\n",
        "g.mostra_lista()"
      ],
      "metadata": {
        "colab": {
          "base_uri": "https://localhost:8080/"
        },
        "id": "zXiAYEubfmZ_",
        "outputId": "29d35d55-1367-46af-c19c-8bfca7fede63"
      },
      "execution_count": 30,
      "outputs": [
        {
          "output_type": "stream",
          "name": "stdout",
          "text": [
            "1: 2 -> \n",
            "3 -> \n",
            "4 -> \n",
            "2: 1 -> \n",
            "3 -> \n",
            "3: 1 -> \n",
            "2 -> \n",
            "4: 1 -> \n"
          ]
        }
      ]
    },
    {
      "cell_type": "markdown",
      "source": [
        "Grafo com peso nas arestas"
      ],
      "metadata": {
        "id": "XVeN-xR1jdPl"
      }
    },
    {
      "cell_type": "code",
      "source": [
        "class Grafo2:\n",
        "\n",
        "  def __init__(self, vertice):\n",
        "    self.vertice = vertice\n",
        "    self.grafo2 = [[] for i in range(self.vertice)]\n",
        "\n",
        "  def adicionar_aresta2(self, u, v, pesos):\n",
        "    #Para grafo direcionado\n",
        "    self.grafo2[u-1].append([v, pesos])\n",
        "\n",
        "    #Para grafo não direcionado\n",
        "    #self.grafo2[v-1].append([u, pesos])\n",
        "\n",
        "  def mostra_lista2(self):\n",
        "    for i in range(self.vertice):\n",
        "      print(f'{i+1}:', end =' ')\n",
        "      for j in self.grafo2[i]:\n",
        "        print(f'{j} ->', end =' ')\n",
        "        print('')"
      ],
      "metadata": {
        "id": "gOJoyQA5jfev"
      },
      "execution_count": 36,
      "outputs": []
    },
    {
      "cell_type": "code",
      "source": [
        "g2 = Grafo2(4)\n",
        "g2.adicionar_aresta2(1,2, 20)\n",
        "g2.adicionar_aresta2(1,3, 30)\n",
        "g2.adicionar_aresta2(1,4, 50)\n",
        "g2.adicionar_aresta2(2,3, 10)\n",
        "\n",
        "g2.mostra_lista2()"
      ],
      "metadata": {
        "colab": {
          "base_uri": "https://localhost:8080/"
        },
        "id": "HL3QT6lQj8cq",
        "outputId": "ef1866f2-e92f-44d6-eef2-db678638d39a"
      },
      "execution_count": 38,
      "outputs": [
        {
          "output_type": "stream",
          "name": "stdout",
          "text": [
            "1: [2, 20] -> \n",
            "[3, 30] -> \n",
            "[4, 50] -> \n",
            "2: [3, 10] -> \n",
            "3: 4: "
          ]
        }
      ]
    }
  ]
}