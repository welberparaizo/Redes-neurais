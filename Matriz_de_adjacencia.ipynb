{
  "nbformat": 4,
  "nbformat_minor": 0,
  "metadata": {
    "colab": {
      "provenance": [],
      "authorship_tag": "ABX9TyMpEOmRb4Z3YTA3l9KYdq3g",
      "include_colab_link": true
    },
    "kernelspec": {
      "name": "python3",
      "display_name": "Python 3"
    },
    "language_info": {
      "name": "python"
    }
  },
  "cells": [
    {
      "cell_type": "markdown",
      "metadata": {
        "id": "view-in-github",
        "colab_type": "text"
      },
      "source": [
        "<a href=\"https://colab.research.google.com/github/welberparaizo/Redes-neurais/blob/main/Matriz_de_adjacencia.ipynb\" target=\"_parent\"><img src=\"https://colab.research.google.com/assets/colab-badge.svg\" alt=\"Open In Colab\"/></a>"
      ]
    },
    {
      "cell_type": "markdown",
      "source": [
        "Código em python da Matriz de Adjacência sem pesos"
      ],
      "metadata": {
        "id": "f3G_lglRFI1L"
      }
    },
    {
      "cell_type": "code",
      "source": [
        "class Grafo:\n",
        "\n",
        "  def __init__(self, vertices):\n",
        "    self.vertices = vertices #Recebe o número de vértices do Grafo\n",
        "    self.grafo =[[0]* self.vertices for i in range(self.vertices) ] #  Cria a matriz de adjacência preenchendo com zeros\n",
        "\n",
        "  #Para grafos direcionados simples\n",
        "  def adiciona_aresta(self, u, v):\n",
        "    self.grafo[u-1][v-1] = 1 # Trocar = por += caso seja um grafo múltiplo\n",
        "    #self.grafo[v-1][u-1] = 1 # Caso o grafo não seja direcionado\n",
        "\n",
        "  def print_matriz(self):\n",
        "    print('A matriz de adjacência é:')\n",
        "    for i in range(self.vertices):\n",
        "      print(self.grafo[i])\n"
      ],
      "metadata": {
        "id": "Fx1tpDkjFV5M"
      },
      "execution_count": 18,
      "outputs": []
    },
    {
      "cell_type": "code",
      "source": [
        "g = Grafo(10)\n",
        "g.adiciona_aresta(1,2)\n",
        "g.adiciona_aresta(7,8)\n",
        "g.print_matriz()"
      ],
      "metadata": {
        "colab": {
          "base_uri": "https://localhost:8080/"
        },
        "id": "nUhHQdAoJnKn",
        "outputId": "bf4cac99-1339-4540-91bc-60d3fe67f990"
      },
      "execution_count": 19,
      "outputs": [
        {
          "output_type": "stream",
          "name": "stdout",
          "text": [
            "A matriz de adjacência é:\n",
            "[0, 1, 0, 0, 0, 0, 0, 0, 0, 0]\n",
            "[0, 0, 0, 0, 0, 0, 0, 0, 0, 0]\n",
            "[0, 0, 0, 0, 0, 0, 0, 0, 0, 0]\n",
            "[0, 0, 0, 0, 0, 0, 0, 0, 0, 0]\n",
            "[0, 0, 0, 0, 0, 0, 0, 0, 0, 0]\n",
            "[0, 0, 0, 0, 0, 0, 0, 0, 0, 0]\n",
            "[0, 0, 0, 0, 0, 0, 0, 1, 0, 0]\n",
            "[0, 0, 0, 0, 0, 0, 0, 0, 0, 0]\n",
            "[0, 0, 0, 0, 0, 0, 0, 0, 0, 0]\n",
            "[0, 0, 0, 0, 0, 0, 0, 0, 0, 0]\n"
          ]
        }
      ]
    },
    {
      "cell_type": "markdown",
      "source": [
        "Código em Python da matriz de adjacência com pesos"
      ],
      "metadata": {
        "id": "1ivAuvIULJHs"
      }
    },
    {
      "cell_type": "code",
      "source": [
        "class Grafo2:\n",
        "\n",
        "  def __init__(self, vertices2):\n",
        "    self.vertices2 = vertices2\n",
        "    self.grafo2 = [[0] * self.vertices2 for i in range(self.vertices2)]\n",
        "\n",
        "  def adiciona_aresta2(self, u, v, peso):\n",
        "    self.grafo2[u-1][v-1] = peso\n",
        "\n",
        "  def print_matriz2(self):\n",
        "    print('A matriz de adjacência é:')\n",
        "    for i in range(self.vertices2):\n",
        "      print(self.grafo2[i])"
      ],
      "metadata": {
        "id": "w30jrYFgLQAr"
      },
      "execution_count": 16,
      "outputs": []
    },
    {
      "cell_type": "code",
      "source": [
        "g1 = Grafo2(10)\n",
        "g1.adiciona_aresta2(1,2,50)\n",
        "g1.adiciona_aresta2(7,8, 2)\n",
        "g1.print_matriz2()"
      ],
      "metadata": {
        "colab": {
          "base_uri": "https://localhost:8080/"
        },
        "id": "-Y8WDUZDMo4L",
        "outputId": "d594cec0-f724-48cc-a666-e79c69c5e0ce"
      },
      "execution_count": 17,
      "outputs": [
        {
          "output_type": "stream",
          "name": "stdout",
          "text": [
            "A matriz de adjacência é:\n",
            "[0, 50, 0, 0, 0, 0, 0, 0, 0, 0]\n",
            "[0, 0, 0, 0, 0, 0, 0, 0, 0, 0]\n",
            "[0, 0, 0, 0, 0, 0, 0, 0, 0, 0]\n",
            "[0, 0, 0, 0, 0, 0, 0, 0, 0, 0]\n",
            "[0, 0, 0, 0, 0, 0, 0, 0, 0, 0]\n",
            "[0, 0, 0, 0, 0, 0, 0, 0, 0, 0]\n",
            "[0, 0, 0, 0, 0, 0, 0, 2, 0, 0]\n",
            "[0, 0, 0, 0, 0, 0, 0, 0, 0, 0]\n",
            "[0, 0, 0, 0, 0, 0, 0, 0, 0, 0]\n",
            "[0, 0, 0, 0, 0, 0, 0, 0, 0, 0]\n"
          ]
        }
      ]
    }
  ]
}